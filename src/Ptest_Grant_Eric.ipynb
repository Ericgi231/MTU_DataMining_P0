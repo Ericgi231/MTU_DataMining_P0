{
 "metadata": {
  "language_info": {
   "codemirror_mode": {
    "name": "ipython",
    "version": 3
   },
   "file_extension": ".py",
   "mimetype": "text/x-python",
   "name": "python",
   "nbconvert_exporter": "python",
   "pygments_lexer": "ipython3",
   "version": "3.7.5-final"
  },
  "orig_nbformat": 2,
  "kernelspec": {
   "name": "python37564bit59b4de17926e42d8ac075e7afee8dec6",
   "display_name": "Python 3.7.5 64-bit",
   "language": "python"
  }
 },
 "nbformat": 4,
 "nbformat_minor": 2,
 "cells": [
  {
   "source": [
    "# Ptest\n",
    "## Due: Thu 01/21 @ 11:59pm\n",
    "## Eric Grant\n",
    "*Assignment Objectives:*<br />\n",
    "Upon successful completion of this assignment, a student will be able to:<br />\n",
    "* Add new text and code to their assignment solutions\n",
    "* Gain experience in formatting text using Markdown or LaTeX\n",
    "* Install or access to programming software to complete this assignment andsubsequent assignments.\n"
   ],
   "cell_type": "markdown",
   "metadata": {}
  },
  {
   "cell_type": "code",
   "execution_count": 1,
   "metadata": {},
   "outputs": [
    {
     "output_type": "stream",
     "name": "stdout",
     "text": [
      "Hello cs4821-cs5831, welcome to 2021\n"
     ]
    }
   ],
   "source": [
    "v1 = \"cs4821-cs5831\"\n",
    "v2 = 2021\n",
    "print (\"Hello \" + v1 + \", welcome to \" + str(v2))"
   ]
  },
  {
   "cell_type": "code",
   "execution_count": null,
   "metadata": {},
   "outputs": [],
   "source": [
    "#test comment"
   ]
  },
  {
   "cell_type": "code",
   "execution_count": null,
   "metadata": {},
   "outputs": [],
   "source": [
    "#This is a larger comment block\n",
    "#that may span multiple lines"
   ]
  }
 ]
}